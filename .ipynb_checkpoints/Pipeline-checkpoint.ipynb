{
 "cells": [
  {
   "cell_type": "code",
   "execution_count": 1,
   "id": "aa848149-51c1-43ca-9d78-0ca16a4355d8",
   "metadata": {},
   "outputs": [],
   "source": [
    "import openai\n",
    "from dotenv import load_dotenv, find_dotenv\n",
    "import os\n",
    "import json\n",
    "import time"
   ]
  },
  {
   "cell_type": "code",
   "execution_count": 2,
   "id": "57dd8258-654a-494b-b862-ff2ed7cc4ad7",
   "metadata": {},
   "outputs": [],
   "source": [
    "dotenv_path = r\"C:/Users/hidbe/VSCodeProjects/JobAssistance/.env\""
   ]
  },
  {
   "cell_type": "code",
   "execution_count": 3,
   "id": "51bd2bb6-2089-4285-b3f0-0f3a75e451ba",
   "metadata": {},
   "outputs": [
    {
     "data": {
      "text/plain": [
       "True"
      ]
     },
     "execution_count": 3,
     "metadata": {},
     "output_type": "execute_result"
    }
   ],
   "source": [
    "# Load environment variables from .env file\n",
    "load_dotenv(dotenv_path)"
   ]
  },
  {
   "cell_type": "code",
   "execution_count": 4,
   "id": "939118be-ca92-417e-a0da-27fb5793e5f7",
   "metadata": {},
   "outputs": [],
   "source": [
    "# Get the OpenAI API key from environment variables\n",
    "api_key = os.getenv('OPENAI_API_KEY')\n",
    "\n",
    "# Set the OpenAI API key\n",
    "openai.api_key = api_key"
   ]
  },
  {
   "cell_type": "code",
   "execution_count": 5,
   "id": "74bd9940-db35-4fcf-bbc8-55d9f1e04483",
   "metadata": {},
   "outputs": [],
   "source": [
    "# Define the path to the file\n",
    "file_path = 'src/my_script/Data/txtfiles/final/FINALIndeed_US.txt'\n",
    "\n",
    "# Read the content of the scraped.txt file with utf-8 encoding\n",
    "with open(file_path, 'r', encoding='utf-8') as f:\n",
    "    output = f.read() "
   ]
  },
  {
   "cell_type": "code",
   "execution_count": 6,
   "id": "fafb9cce-0857-4abf-a3e0-c7cb40459a58",
   "metadata": {},
   "outputs": [],
   "source": [
    "# Optionally split the content into individual job postings\n",
    "job_postings = output.split(\"\\n\\n\")"
   ]
  },
  {
   "cell_type": "code",
   "execution_count": 7,
   "id": "64be6ea1-e072-4bb5-a114-c1e79a151896",
   "metadata": {},
   "outputs": [],
   "source": [
    "system_message_content = ( \n",
    "    \"Parse the following job description into valid JSON with these fields: \\n\"\n",
    "    \"Enter the fields here\"\n",
    "\n",
    ")"
   ]
  },
  {
   "cell_type": "code",
   "execution_count": 8,
   "id": "1fc8f089-a3ad-43c8-8a75-f0a63ead6d4e",
   "metadata": {},
   "outputs": [],
   "source": [
    "responses = [] "
   ]
  },
  {
   "cell_type": "code",
   "execution_count": 9,
   "id": "af72a8a0-aca3-4a81-b609-5e7494ba4751",
   "metadata": {},
   "outputs": [],
   "source": [
    "from openai import OpenAI\n",
    "client = OpenAI(organization='org-Mwew5KzJPrkUVmfjavXwSslP')"
   ]
  },
  {
   "cell_type": "code",
   "execution_count": null,
   "id": "e1b1e555-53ce-4937-943c-e735a22544c5",
   "metadata": {},
   "outputs": [],
   "source": [
    "for job in job_postings:\n",
    "    content = job\n",
    "    response = client.chat.completions.create(\n",
    "      model=\"gpt-3.5-turbo\",\n",
    "      response_format={\"type\": \"json_object\"},  \n",
    "      messages=[\n",
    "        {\"role\": \"system\", \"content\": system_message_content},\n",
    "        {\"role\": \"user\",\"content\": content}\n",
    "      ],\n",
    "      temperature=0.7,\n",
    "      max_tokens=1024,\n",
    "      top_p=1\n",
    ")\n",
    "    completion = response.choices[0].message.content\n",
    "    responses.append(completion)"
   ]
  },
  {
   "cell_type": "code",
   "execution_count": 3,
   "id": "8ffb610a-2919-4203-86ed-9b72723f1526",
   "metadata": {},
   "outputs": [],
   "source": [
    "# Define the path to the output JSON file\n",
    "output_json_path = 'src/my_script/Data/responses/Indeed_us.json'"
   ]
  },
  {
   "cell_type": "code",
   "execution_count": 4,
   "id": "f7a85ccb-f3e3-46b0-b203-97fcfefa7f0b",
   "metadata": {},
   "outputs": [
    {
     "ename": "NameError",
     "evalue": "name 'responses' is not defined",
     "output_type": "error",
     "traceback": [
      "\u001b[1;31m---------------------------------------------------------------------------\u001b[0m",
      "\u001b[1;31mNameError\u001b[0m                                 Traceback (most recent call last)",
      "Cell \u001b[1;32mIn[4], line 11\u001b[0m\n\u001b[0;32m      9\u001b[0m \u001b[38;5;66;03m# Write only valid responses to the JSON file\u001b[39;00m\n\u001b[0;32m     10\u001b[0m \u001b[38;5;28;01mwith\u001b[39;00m \u001b[38;5;28mopen\u001b[39m(output_json_path, \u001b[38;5;124m'\u001b[39m\u001b[38;5;124mw\u001b[39m\u001b[38;5;124m'\u001b[39m, encoding\u001b[38;5;241m=\u001b[39m\u001b[38;5;124m'\u001b[39m\u001b[38;5;124mutf-8\u001b[39m\u001b[38;5;124m'\u001b[39m) \u001b[38;5;28;01mas\u001b[39;00m json_file:\n\u001b[1;32m---> 11\u001b[0m     \u001b[38;5;28;01mfor\u001b[39;00m response \u001b[38;5;129;01min\u001b[39;00m \u001b[43mresponses\u001b[49m:\n\u001b[0;32m     12\u001b[0m         \u001b[38;5;28;01mif\u001b[39;00m is_valid_json(response):\n\u001b[0;32m     13\u001b[0m             json\u001b[38;5;241m.\u001b[39mdump(response, json_file, ensure_ascii\u001b[38;5;241m=\u001b[39m\u001b[38;5;28;01mFalse\u001b[39;00m, indent\u001b[38;5;241m=\u001b[39m\u001b[38;5;241m4\u001b[39m)\n",
      "\u001b[1;31mNameError\u001b[0m: name 'responses' is not defined"
     ]
    }
   ],
   "source": [
    "# Function to check if an object is a valid JSON\n",
    "def is_valid_json(data):\n",
    "    try:\n",
    "        json.dumps(data)\n",
    "        return True\n",
    "    except (TypeError, ValueError):\n",
    "        return False\n",
    "\n",
    "# Write only valid responses to the JSON file\n",
    "with open(output_json_path, 'w', encoding='utf-8') as json_file:\n",
    "    for response in responses:\n",
    "        if is_valid_json(response):\n",
    "            json.dump(response, json_file, ensure_ascii=False, indent=4)\n",
    "            json_file.write(',\\n')  # Write each JSON object on a new line\n",
    "        else:\n",
    "            print(f\"Invalid JSON object: {response}\")"
   ]
  },
  {
   "cell_type": "code",
   "execution_count": null,
   "id": "e02af49b-2025-4689-97b8-515b9abfbbdc",
   "metadata": {},
   "outputs": [],
   "source": []
  }
 ],
 "metadata": {
  "kernelspec": {
   "display_name": "Python 3 (ipykernel)",
   "language": "python",
   "name": "python3"
  },
  "language_info": {
   "codemirror_mode": {
    "name": "ipython",
    "version": 3
   },
   "file_extension": ".py",
   "mimetype": "text/x-python",
   "name": "python",
   "nbconvert_exporter": "python",
   "pygments_lexer": "ipython3",
   "version": "3.12.3"
  }
 },
 "nbformat": 4,
 "nbformat_minor": 5
}
