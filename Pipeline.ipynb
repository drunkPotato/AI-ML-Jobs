{
 "cells": [
  {
   "cell_type": "code",
   "execution_count": 33,
   "id": "aa848149-51c1-43ca-9d78-0ca16a4355d8",
   "metadata": {},
   "outputs": [],
   "source": [
    "import openai\n",
    "from dotenv import load_dotenv, find_dotenv\n",
    "import os\n",
    "import json\n",
    "import time"
   ]
  },
  {
   "cell_type": "code",
   "execution_count": 34,
   "id": "57dd8258-654a-494b-b862-ff2ed7cc4ad7",
   "metadata": {},
   "outputs": [],
   "source": [
    "dotenv_path = r\"C:\\Users\\C\\Documents\\work\\projects\\HSLU Job Search\\AI-ML-Jobs\\.env\""
   ]
  },
  {
   "cell_type": "code",
   "execution_count": 35,
   "id": "51bd2bb6-2089-4285-b3f0-0f3a75e451ba",
   "metadata": {},
   "outputs": [
    {
     "data": {
      "text/plain": [
       "True"
      ]
     },
     "execution_count": 35,
     "metadata": {},
     "output_type": "execute_result"
    }
   ],
   "source": [
    "# Load environment variables from .env file\n",
    "load_dotenv(dotenv_path)"
   ]
  },
  {
   "cell_type": "code",
   "execution_count": 36,
   "id": "939118be-ca92-417e-a0da-27fb5793e5f7",
   "metadata": {},
   "outputs": [],
   "source": [
    "# Get the OpenAI API key from environment variables\n",
    "api_key = os.getenv('OPENAI_API_KEY')\n",
    "\n",
    "# Set the OpenAI API key\n",
    "openai.api_key = api_key"
   ]
  },
  {
   "cell_type": "code",
   "execution_count": 37,
   "id": "16b9e1d5-4044-457e-891a-cd038c557fe1",
   "metadata": {},
   "outputs": [
    {
     "name": "stdout",
     "output_type": "stream",
     "text": [
      "sk-proj-LEfh2aD9kVt6EDVvkRc0T3BlbkFJdSxLiDMrK0YYIQI17AA3\n"
     ]
    }
   ],
   "source": [
    "print(api_key)"
   ]
  },
  {
   "cell_type": "code",
   "execution_count": 38,
   "id": "321fbb6c-b54c-42b5-825f-a22510095ca2",
   "metadata": {},
   "outputs": [],
   "source": [
    "# content = ''"
   ]
  },
  {
   "cell_type": "code",
   "execution_count": 39,
   "id": "74bd9940-db35-4fcf-bbc8-55d9f1e04483",
   "metadata": {},
   "outputs": [],
   "source": [
    "# Define the path to the file\n",
    "file_path = 'src/my_script/Data/txtfiles/final/eures.txt'\n",
    "\n",
    "# Read the content of the scraped.txt file with utf-8 encoding\n",
    "with open(file_path, 'r', encoding='utf-8') as f:\n",
    "    output = f.read() "
   ]
  },
  {
   "cell_type": "code",
   "execution_count": 40,
   "id": "fafb9cce-0857-4abf-a3e0-c7cb40459a58",
   "metadata": {},
   "outputs": [],
   "source": [
    "# Optionally split the content into individual job postings\n",
    "job_postings = output.split(\"\\n\\n\")"
   ]
  },
  {
   "cell_type": "code",
   "execution_count": 41,
   "id": "64be6ea1-e072-4bb5-a114-c1e79a151896",
   "metadata": {},
   "outputs": [],
   "source": [
    "system_message_content =(\"You will be provided with unstructured job descriptions (text data), and your task is to parse them into valid JSON format. These are the fields I want to have information about: MY ID, Title, Company, Location, Sector, Language, Workload, Contract Type, Role, Benefits, Publish Date, AI-technology, Salary, Techskills, Softskills, Degree.\")"
   ]
  },
  {
   "cell_type": "code",
   "execution_count": 42,
   "id": "1fc8f089-a3ad-43c8-8a75-f0a63ead6d4e",
   "metadata": {},
   "outputs": [],
   "source": [
    "responses = [] "
   ]
  },
  {
   "cell_type": "code",
   "execution_count": 43,
   "id": "af72a8a0-aca3-4a81-b609-5e7494ba4751",
   "metadata": {},
   "outputs": [],
   "source": [
    "from openai import OpenAI\n",
    "client = OpenAI(organization='org-Mwew5KzJPrkUVmfjavXwSslP')"
   ]
  },
  {
   "cell_type": "code",
   "execution_count": 44,
   "id": "e1b1e555-53ce-4937-943c-e735a22544c5",
   "metadata": {},
   "outputs": [],
   "source": [
    "for job in job_postings:\n",
    "    content = job\n",
    "    response = client.chat.completions.create(\n",
    "      model=\"gpt-3.5-turbo\",\n",
    "      response_format={\"type\": \"json_object\"},  \n",
    "      messages=[\n",
    "        {\"role\": \"system\", \"content\": system_message_content},\n",
    "        {\"role\": \"user\",\"content\": content}\n",
    "      ],\n",
    "      temperature=0.7,\n",
    "      max_tokens=1024,\n",
    "      top_p=1\n",
    ")\n",
    "    completion = response.choices[0].message.content\n",
    "    responses.append(completion)"
   ]
  },
  {
   "cell_type": "code",
   "execution_count": 45,
   "id": "64ccb747-b441-44d8-977a-e958e2a16ca9",
   "metadata": {},
   "outputs": [
    {
     "name": "stdout",
     "output_type": "stream",
     "text": [
      "{\n",
      "    \"MY ID\": \"280721\",\n",
      "    \"Title\": \"Project Manager - Artificial Intelligence\",\n",
      "    \"Company\": \"GOLDBECK GmbH\",\n",
      "    \"Location\": \"Bielefeld, North Rhine-Westphalia, Germany\",\n",
      "    \"Sector\": \"Activities of head offices\",\n",
      "    \"Language\": \"German, English\",\n",
      "    \"Workload\": \"Full-time\",\n",
      "    \"Contract Type\": \"Permanent\",\n",
      "    \"Role\": \"ICT project manager\",\n",
      "    \"Benefits\": \"Large enterprise, opportunity to work remotely, innovative and dynamic environment\",\n",
      "    \"Publish Date\": \"11/7/2024\",\n",
      "    \"AI-technology\": \"Artificial Intelligence\",\n",
      "    \"Salary\": \"Not specified\",\n",
      "    \"Techskills\": \"IT, Data Science, Machine Learning Engineering, BIM\",\n",
      "    \"Softskills\": \"Strategic thinking, strong communication skills, analytical skills, flexibility, teamwork\",\n",
      "    \"Degree\": \"Master's degree in relevant field (e.g., business, MINT)\"\n",
      "}\n"
     ]
    }
   ],
   "source": [
    "print(responses[0])"
   ]
  },
  {
   "cell_type": "code",
   "execution_count": 46,
   "id": "8ffb610a-2919-4203-86ed-9b72723f1526",
   "metadata": {},
   "outputs": [],
   "source": [
    "# Define the path to the output JSON file\n",
    "output_json_path = 'responseseures.json'"
   ]
  },
  {
   "cell_type": "code",
   "execution_count": 47,
   "id": "f7a85ccb-f3e3-46b0-b203-97fcfefa7f0b",
   "metadata": {},
   "outputs": [],
   "source": [
    "# Function to check if an object is a valid JSON\n",
    "def is_valid_json(data):\n",
    "    try:\n",
    "        json.dumps(data)\n",
    "        return True\n",
    "    except (TypeError, ValueError):\n",
    "        return False\n",
    "\n",
    "# Write only valid responses to the JSON file\n",
    "with open(output_json_path, 'w', encoding='utf-8') as json_file:\n",
    "    for response in responses:\n",
    "        if is_valid_json(response):\n",
    "            json.dump(response, json_file, ensure_ascii=False, indent=4)\n",
    "            json_file.write(',\\n')  # Write each JSON object on a new line\n",
    "        else:\n",
    "            print(f\"Invalid JSON object: {response}\")"
   ]
  },
  {
   "cell_type": "code",
   "execution_count": null,
   "id": "c0feb650-8e20-4abf-8af5-f2313edc4da2",
   "metadata": {},
   "outputs": [],
   "source": []
  },
  {
   "cell_type": "code",
   "execution_count": null,
   "id": "3c08a4a1-ec6c-4ab6-9254-b3ee1578a971",
   "metadata": {},
   "outputs": [],
   "source": []
  }
 ],
 "metadata": {
  "kernelspec": {
   "display_name": "Python 3 (ipykernel)",
   "language": "python",
   "name": "python3"
  },
  "language_info": {
   "codemirror_mode": {
    "name": "ipython",
    "version": 3
   },
   "file_extension": ".py",
   "mimetype": "text/x-python",
   "name": "python",
   "nbconvert_exporter": "python",
   "pygments_lexer": "ipython3",
   "version": "3.12.2"
  }
 },
 "nbformat": 4,
 "nbformat_minor": 5
}
